{
  "cells": [
    {
      "cell_type": "markdown",
      "metadata": {
        "id": "467dlMti6Q5S"
      },
      "source": [
        "Nama : Johnny <br>\n",
        "NIM : 2502029370 <br>\n",
        "Kelas : LC09"
      ]
    },
    {
      "cell_type": "markdown",
      "source": [
        "Link: https://binusianorg-my.sharepoint.com/personal/johnny_binus_ac_id/_layouts/15/guestaccess.aspx?share=EfYvI3w7xgNElARY57DYBR8BTomvmD1khN5hC_xqbblQqQ&nav=eyJyZWZlcnJhbEluZm8iOnsicmVmZXJyYWxBcHAiOiJPbmVEcml2ZUZvckJ1c2luZXNzIiwicmVmZXJyYWxBcHBQbGF0Zm9ybSI6IldlYiIsInJlZmVycmFsTW9kZSI6InZpZXciLCJyZWZlcnJhbFZpZXciOiJNeUZpbGVzTGlua0RpcmVjdCJ9fQ&e=1n0NHj"
      ],
      "metadata": {
        "id": "dYvzNEAYtPnB"
      }
    },
    {
      "cell_type": "markdown",
      "metadata": {
        "id": "KBijVvJg6jBk"
      },
      "source": [
        "## Collect Data"
      ]
    },
    {
      "cell_type": "code",
      "execution_count": 1,
      "metadata": {
        "id": "l1UvG_xbDNxz"
      },
      "outputs": [],
      "source": [
        "pip install newspaper3k"
      ]
    },
    {
      "cell_type": "code",
      "execution_count": 2,
      "metadata": {
        "id": "ot7WSWn77rHQ"
      },
      "outputs": [],
      "source": [
        "import re\n",
        "import pandas as pd"
      ]
    },
    {
      "cell_type": "code",
      "execution_count": 3,
      "metadata": {
        "id": "GWEZPA15DfIv"
      },
      "outputs": [],
      "source": [
        "from newspaper import Article\n",
        "\n",
        "# URL berita yang ingin Anda ambil\n",
        "url = 'https://www.cnnindonesia.com/hiburan/20231109080217-220-1021818/the-boys-season-4-dijadwalkan-tayang-2024'\n",
        "\n",
        "# Inisialisasi objek Artikel\n",
        "article = Article(url, 'id')  # Ganti 'id' dengan kode bahasa yang sesuai jika tidak bahasa Indonesia\n",
        "\n",
        "# Mengunduh dan mengurai artikel\n",
        "article.download()\n",
        "article.parse()\n",
        "\n",
        "# Menghilangkan teks iklan (misalnya dengan regex)\n",
        "cleaned_text = re.sub(r'\\biklan\\b', '', article.text, flags=re.IGNORECASE)\n",
        "\n",
        "# Menambahkan informasi media dan kategori berita\n",
        "media = \"CNN Indonesia\"  # Ganti dengan sumber media yang sesuai\n",
        "kategori = \"Hiburan\"  # Ganti dengan kategori berita yang sesuai\n",
        "\n",
        "# Membuat DataFrame Pandas untuk data baru\n",
        "data = {\n",
        "    'Teks': [cleaned_text],\n",
        "    'Media': [media],\n",
        "    'Label': [kategori]\n",
        "}\n",
        "\n",
        "# Membaca data yang sudah ada dari file Excel\n",
        "existing_data = pd.read_excel('Data_Berita.xlsx')\n",
        "\n",
        "# Menggabungkan data baru dengan data yang sudah ada\n",
        "combined_data = pd.concat([existing_data, pd.DataFrame(data)], ignore_index=True)\n",
        "\n",
        "# Simpan DataFrame yang telah digabung ke dalam file Excel\n",
        "combined_data.to_excel('Data_Berita.xlsx', index=False)"
      ]
    },
    {
      "cell_type": "markdown",
      "metadata": {
        "id": "9bWjOrvfkiLR"
      },
      "source": [
        "## Cleaning Data"
      ]
    },
    {
      "cell_type": "code",
      "execution_count": 4,
      "metadata": {
        "colab": {
          "base_uri": "https://localhost:8080/"
        },
        "id": "NQ8ieX7fELNa",
        "outputId": "65b47fd4-b47c-49d2-9b40-03beb27ecf3b"
      },
      "outputs": [
        {
          "output_type": "stream",
          "name": "stdout",
          "text": [
            "                                                 Teks          Media     Label\n",
            "0   Arsenal tampak lebih solid musim ini dengan da...      Detik.com  Olahraga\n",
            "1   Kevin Sanjaya Sukamuljo/Rahmat Hidayat lolos d...      Detik.com  Olahraga\n",
            "2   Marc Marquez akan menunggangi Ducati di MotoGP...      Detik.com  Olahraga\n",
            "3   Perhelatan ajang bulutangkis BNI Sirnas A DKI ...      Detik.com  Olahraga\n",
            "4   Suraaya - Jelang laga melawan Ekuador pada 10 ...      Detik.com  Olahraga\n",
            "5    Dalam kehidupan sehari-hari, stres terkadang ...           CNBC  Olahraga\n",
            "6    Legenda fitness Elaine LaLanne masih terlihat...           CNBC  Olahraga\n",
            "7    Golf adalah olahraga yang identik dengan kala...           CNBC  Olahraga\n",
            "8   Jersey ini akan mulai dikenakan para pemain FC...           CNBC  Olahraga\n",
            "9   Sejak awal pertandingan, pemain Timnas Indones...           CNBC  Olahraga\n",
            "10   Rahmat Hidayat/Kevin Sanjaya yang baru dikomb...           CNBC  Olahraga\n",
            "11   Federasi Bulutangkis Dunia (BWF) baru saja me...         Kompas  Olahraga\n",
            "12   Ganda campuran Indonesia, Rehan Naufal Kushar...         Kompas  Olahraga\n",
            "13   Pebalap Pramac Racing, Jorge Martin, meraih p...         Kompas  Olahraga\n",
            "14   Wakil Ketua Umum PSSI, Ratu Tisha, mengungkap...         Kompas  Olahraga\n",
            "15  Majelis Kehormatan Mahkamah Konstitusi (MKMK) ...      Detik.com   Politik\n",
            "16  Politikus PDI Perjuangan (PDIP) Deddy Yevry Si...      Detik.com   Politik\n",
            "17  Komisaris Utama PT Pertamina Basuki Tjahaja Pu...      Detik.com   Politik\n",
            "18  Ketua DPP PAN Saleh Partaonan Daulay heran lan...      Detik.com   Politik\n",
            "19  Majelis Kehormatan Mahkamah Konstitusi (MKMK) ...      Detik.com   Politik\n",
            "20   Ketua Umum Partai Golkar Airlangga Hartarto t...           CNBC   Politik\n",
            "21   Isu politik dinasti di Asia Tenggara menjadi ...           CNBC   Politik\n",
            "22  Masyarakat Indonesia sebentar lagi akan meraya...           CNBC   Politik\n",
            "23  Swasembada pangan menjadi salah satu prioritas...           CNBC   Politik\n",
            "24   Luhut Binsar Pandjaitan, Menteri Koordinator ...           CNBC   Politik\n",
            "25  Dalam susunan Tim Kampanye Nasional (TKN) Prab...         Kompas   Politik\n",
            "26  Bacapres Anies Baswedan tidak memberi respon l...         Kompas   Politik\n",
            "27  Bacapres Anies Baswedan tidak memberi respon l...         Kompas   Politik\n",
            "28  Bakal calon presiden Prabowo Subianto memanjat...         Kompas   Politik\n",
            "29  Budiman Sudjatmiko resmi bergabung ke dalam TK...         Kompas   Politik\n",
            "30  Ketua MPR RI Bambang Soesatyo dan Wakil Ketua ...      Detik.com   Hiburan\n",
            "31  Trinity Youth Symphony Orchestra (TRUST) dan C...      Detik.com   Hiburan\n",
            "32  Euforia perayaan 1 abad Persis Solo masih belu...      Detik.com   Hiburan\n",
            "33  Menjelang pergantian tahun, Hotel Borobudur Ja...      Detik.com   Hiburan\n",
            "34  Penantian panjang SONE akhirnya terjawab, Taey...      Detik.com   Hiburan\n",
            "35   Kabar duka mewarnai dunia hiburan tanah air. ...           CNBC   Hiburan\n",
            "36   film terbaru DC Extended Universe berjudul Bl...           CNBC   Hiburan\n",
            "37   Dunia Fantasi (Dufan) dan sejumlah unit wisat...           CNBC   Hiburan\n",
            "38   Upaya pemerintah China dalam menahan kebangki...           CNBC   Hiburan\n",
            "39   Holywings belakangan hangat menjadi perbincan...           CNBC   Hiburan\n",
            "40  --Wika Salim dan Aurelie Moeremans bakal meram...  CNN Indonesia   Hiburan\n",
            "41  --Gunawan Dwi Cahyo buka suara terkait dugaan ...  CNN Indonesia   Hiburan\n",
            "42  INTIP: 5 Minuman Terbaik Sebelum Tidur buat Us...  CNN Indonesia   Hiburan\n",
            "43  --Aktris sekaligus pengusaha Felicya Angelista...  CNN Indonesia   Hiburan\n",
            "44  --Serial The Boys season 4 dijadwalkan bersiap...  CNN Indonesia   Hiburan\n"
          ]
        },
        {
          "output_type": "stream",
          "name": "stderr",
          "text": [
            "<ipython-input-4-dc26ad7fbb2b>:11: FutureWarning: The default value of regex will change from True to False in a future version.\n",
            "  df_cleaned['Teks'] = df_cleaned['Teks'].str.replace('Jakarta. CNBC Indonesia -', '')\n",
            "<ipython-input-4-dc26ad7fbb2b>:12: FutureWarning: The default value of regex will change from True to False in a future version.\n",
            "  df_cleaned['Teks'] = df_cleaned['Teks'].str.replace('KOMPAS.com -', '')\n",
            "<ipython-input-4-dc26ad7fbb2b>:13: FutureWarning: The default value of regex will change from True to False in a future version.\n",
            "  df_cleaned['Teks'] = df_cleaned['Teks'].str.replace('KOMPAS.com –', '')\n"
          ]
        }
      ],
      "source": [
        "def text_Clean(df):\n",
        "    # Salin DataFrame yang masuk agar tidak mengubah DataFrame asli\n",
        "    df_cleaned = df.copy()\n",
        "\n",
        "    # Membersihkan teks dalam kolom \"Teks\"\n",
        "    df_cleaned['Teks'] = df_cleaned['Teks'].str.replace('\\n', '')\n",
        "    df_cleaned['Teks'] = df_cleaned['Teks'].str.replace('ADVERTISEMENT', '')\n",
        "    df_cleaned['Teks'] = df_cleaned['Teks'].str.replace('SCROLL TO RESUME CONTENT', '')\n",
        "    df_cleaned['Teks'] = df_cleaned['Teks'].str.replace('SCROLL TO CONTINUE WITH CONTENT', '')\n",
        "    df_cleaned['Teks'] = df_cleaned['Teks'].str.replace('Jakarta, CNBC Indonesia -', '')\n",
        "    df_cleaned['Teks'] = df_cleaned['Teks'].str.replace('Jakarta. CNBC Indonesia -', '')\n",
        "    df_cleaned['Teks'] = df_cleaned['Teks'].str.replace('KOMPAS.com -', '')\n",
        "    df_cleaned['Teks'] = df_cleaned['Teks'].str.replace('KOMPAS.com –', '')\n",
        "\n",
        "    return df_cleaned\n",
        "\n",
        "# Contoh penggunaan fungsi\n",
        "df = pd.read_excel('Data_Berita.xlsx')\n",
        "df_cleaned = text_Clean(df)\n",
        "\n",
        "# Tampilkan DataFrame yang telah dibersihkan\n",
        "print(df_cleaned)"
      ]
    },
    {
      "cell_type": "markdown",
      "metadata": {
        "id": "qNfa0-C4z8kN"
      },
      "source": [
        "## Case Folding"
      ]
    },
    {
      "cell_type": "code",
      "execution_count": 5,
      "metadata": {
        "colab": {
          "base_uri": "https://localhost:8080/"
        },
        "id": "3a2z85nbzrr1",
        "outputId": "2b12024c-3e9a-43b5-f0cf-34e14d931e84"
      },
      "outputs": [
        {
          "output_type": "execute_result",
          "data": {
            "text/plain": [
              "0    arsenal tampak lebih solid musim ini dengan da...\n",
              "1    kevin sanjaya sukamuljo/rahmat hidayat lolos d...\n",
              "2    marc marquez akan menunggangi ducati di motogp...\n",
              "3    perhelatan ajang bulutangkis bni sirnas a dki ...\n",
              "4    suraaya - jelang laga melawan ekuador pada 10 ...\n",
              "Name: Teks, dtype: object"
            ]
          },
          "metadata": {},
          "execution_count": 5
        }
      ],
      "source": [
        "df_lowercase=df_cleaned['Teks'].str.lower()\n",
        "df_lowercase.head()"
      ]
    },
    {
      "cell_type": "markdown",
      "metadata": {
        "id": "pe9g3t8K1hML"
      },
      "source": [
        "## Remove Punctuation"
      ]
    },
    {
      "cell_type": "code",
      "execution_count": 6,
      "metadata": {
        "colab": {
          "base_uri": "https://localhost:8080/"
        },
        "id": "xXc2Y76A0OyA",
        "outputId": "59886475-ac82-437e-8536-482f0b229710"
      },
      "outputs": [
        {
          "output_type": "execute_result",
          "data": {
            "text/plain": [
              "8     jersey ini akan mulai dikenakan para pemain fc...\n",
              "22    masyarakat indonesia sebentar lagi akan meraya...\n",
              "44    serial the boys season 4 dijadwalkan bersiap t...\n",
              "30    ketua mpr ri bambang soesatyo dan wakil ketua ...\n",
              "16    politikus pdi perjuangan pdip deddy yevry sito...\n",
              "11     federasi bulutangkis dunia bwf baru saja meri...\n",
              "26    bacapres anies baswedan tidak memberi respon l...\n",
              "18    ketua dpp pan saleh partaonan daulay heran lan...\n",
              "29    budiman sudjatmiko resmi bergabung ke dalam tk...\n",
              "14     wakil ketua umum pssi ratu tisha mengungkapka...\n",
              "Name: Teks, dtype: object"
            ]
          },
          "metadata": {},
          "execution_count": 6
        }
      ],
      "source": [
        "import string\n",
        "df_cleaned['Teks']=df_lowercase.str.translate(str.maketrans('', '', string.punctuation))\n",
        "df_cleaned['Teks'].sample(10)"
      ]
    },
    {
      "cell_type": "markdown",
      "metadata": {
        "id": "HVSds1In2tx2"
      },
      "source": [
        "## Remove Multiple Whitespace"
      ]
    },
    {
      "cell_type": "code",
      "execution_count": 7,
      "metadata": {
        "id": "rg8tRhBK2yeR"
      },
      "outputs": [],
      "source": [
        "df_cleaned['Teks'] = df_cleaned['Teks'].apply(lambda x: re.sub(r'\\s+', ' ', x).strip())"
      ]
    },
    {
      "cell_type": "markdown",
      "metadata": {
        "id": "1QwiRAVM4kik"
      },
      "source": [
        "## Tokenization"
      ]
    },
    {
      "cell_type": "code",
      "execution_count": 8,
      "metadata": {
        "colab": {
          "base_uri": "https://localhost:8080/"
        },
        "id": "JW8VQNuP22ac",
        "outputId": "64905302-0227-432d-a83e-2a054dff547c"
      },
      "outputs": [
        {
          "output_type": "stream",
          "name": "stderr",
          "text": [
            "[nltk_data] Downloading package punkt to /root/nltk_data...\n",
            "[nltk_data]   Package punkt is already up-to-date!\n"
          ]
        }
      ],
      "source": [
        "from nltk.tokenize import word_tokenize\n",
        "import nltk\n",
        "nltk.download('punkt')\n",
        "\n",
        "df_cleaned['Teks'] = df_cleaned['Teks'].apply(lambda text: word_tokenize(text))"
      ]
    },
    {
      "cell_type": "markdown",
      "metadata": {
        "id": "Np4spGLy8CKb"
      },
      "source": [
        "## Remove Stop Word"
      ]
    },
    {
      "cell_type": "code",
      "execution_count": 9,
      "metadata": {
        "colab": {
          "base_uri": "https://localhost:8080/"
        },
        "id": "RPDZ_66y4s3s",
        "outputId": "8bfabf0b-4db9-44b6-c70c-11c272f6e93f"
      },
      "outputs": [
        {
          "output_type": "stream",
          "name": "stderr",
          "text": [
            "[nltk_data] Downloading package stopwords to /root/nltk_data...\n",
            "[nltk_data]   Package stopwords is already up-to-date!\n"
          ]
        },
        {
          "output_type": "execute_result",
          "data": {
            "text/plain": [
              "True"
            ]
          },
          "metadata": {},
          "execution_count": 9
        }
      ],
      "source": [
        "from nltk.corpus import stopwords\n",
        "nltk.download('stopwords')"
      ]
    },
    {
      "cell_type": "code",
      "execution_count": 10,
      "metadata": {
        "id": "xnHmg6V38H0L"
      },
      "outputs": [],
      "source": [
        "list_stopwords=set(stopwords.words('indonesian', 'english'))"
      ]
    },
    {
      "cell_type": "code",
      "execution_count": 11,
      "metadata": {
        "id": "wsjhbdkv8O8l"
      },
      "outputs": [],
      "source": [
        "# Menghapus stopwords dari setiap teks dalam kolom \"Teks\"\n",
        "df_cleaned['Teks'] = df_cleaned['Teks'].apply(lambda tokens: [word for word in tokens if word not in list_stopwords])"
      ]
    },
    {
      "cell_type": "markdown",
      "metadata": {
        "id": "a5yhxaadAuBc"
      },
      "source": [
        "### Stemming"
      ]
    },
    {
      "cell_type": "code",
      "execution_count": 12,
      "metadata": {
        "id": "X61qwUKMDnAy",
        "colab": {
          "base_uri": "https://localhost:8080/"
        },
        "outputId": "b2983f28-0c8c-479c-8b00-7e92622d0723"
      },
      "outputs": [
        {
          "output_type": "stream",
          "name": "stdout",
          "text": [
            "Requirement already satisfied: Sastrawi in /usr/local/lib/python3.10/dist-packages (1.0.1)\n"
          ]
        }
      ],
      "source": [
        "pip install Sastrawi"
      ]
    },
    {
      "cell_type": "code",
      "execution_count": 13,
      "metadata": {
        "id": "7pWIH0M98moZ"
      },
      "outputs": [],
      "source": [
        "from Sastrawi.Stemmer.StemmerFactory import StemmerFactory\n",
        "\n",
        "# Inisialisasi stemmer dari Sastrawi\n",
        "factory = StemmerFactory()\n",
        "stemmer = factory.create_stemmer()\n",
        "\n",
        "# Melakukan stemming pada setiap teks dalam kolom \"Teks\"\n",
        "df_cleaned['Teks'] = df_cleaned['Teks'].apply(lambda tokens: [stemmer.stem(word) for word in tokens])"
      ]
    },
    {
      "cell_type": "markdown",
      "metadata": {
        "id": "50bYq5OYG3IU"
      },
      "source": [
        "### Mengembalikan Teks"
      ]
    },
    {
      "cell_type": "code",
      "execution_count": 14,
      "metadata": {
        "id": "zgUqg_rPA0NV"
      },
      "outputs": [],
      "source": [
        "# Menggabungkan list token dalam kolom \"Teks\" kembali menjadi string\n",
        "df_cleaned['Teks'] = df_cleaned['Teks'].apply(lambda tokens: ' '.join(tokens))"
      ]
    },
    {
      "cell_type": "markdown",
      "source": [
        "### Label Encoding"
      ],
      "metadata": {
        "id": "iYFiLzbhYdft"
      }
    },
    {
      "cell_type": "code",
      "execution_count": 15,
      "metadata": {
        "colab": {
          "base_uri": "https://localhost:8080/",
          "height": 363
        },
        "id": "ZXrnKFhURglG",
        "outputId": "c2d91c3c-85c9-4d7f-e079-5e3ac7579c9b"
      },
      "outputs": [
        {
          "output_type": "execute_result",
          "data": {
            "text/plain": [
              "                                                 Teks          Media  Label\n",
              "28  calon presiden prabowo subianto panjat doa tuh...         Kompas      2\n",
              "43  aktris usaha felicya angelista buka suara rama...  CNN Indonesia      0\n",
              "19  majelis hormat mahkamah konstitusi mkmk putus ...      Detik.com      2\n",
              "41  gunawan dwi cahyo buka suara kait duga selingk...  CNN Indonesia      0\n",
              "20  ketua partai golkar airlangga hartarto tibatib...           CNBC      2\n",
              "44  serial the boys season 4 jadwal tayang jadwal ...  CNN Indonesia      0\n",
              "1   kevin sanjaya sukamuljorahmat hidayat lolos ba...      Detik.com      1\n",
              "16  politikus pdi juang pdip deddy yevry sitorus r...      Detik.com      2\n",
              "31  trinity youth symphony orchestra trust ciputra...      Detik.com      0\n",
              "17  komisaris utama pt pertamina basuki tjahaja pu...      Detik.com      2"
            ],
            "text/html": [
              "\n",
              "  <div id=\"df-2f01a9b3-cae3-42e0-b9ed-ef148373e37b\" class=\"colab-df-container\">\n",
              "    <div>\n",
              "<style scoped>\n",
              "    .dataframe tbody tr th:only-of-type {\n",
              "        vertical-align: middle;\n",
              "    }\n",
              "\n",
              "    .dataframe tbody tr th {\n",
              "        vertical-align: top;\n",
              "    }\n",
              "\n",
              "    .dataframe thead th {\n",
              "        text-align: right;\n",
              "    }\n",
              "</style>\n",
              "<table border=\"1\" class=\"dataframe\">\n",
              "  <thead>\n",
              "    <tr style=\"text-align: right;\">\n",
              "      <th></th>\n",
              "      <th>Teks</th>\n",
              "      <th>Media</th>\n",
              "      <th>Label</th>\n",
              "    </tr>\n",
              "  </thead>\n",
              "  <tbody>\n",
              "    <tr>\n",
              "      <th>28</th>\n",
              "      <td>calon presiden prabowo subianto panjat doa tuh...</td>\n",
              "      <td>Kompas</td>\n",
              "      <td>2</td>\n",
              "    </tr>\n",
              "    <tr>\n",
              "      <th>43</th>\n",
              "      <td>aktris usaha felicya angelista buka suara rama...</td>\n",
              "      <td>CNN Indonesia</td>\n",
              "      <td>0</td>\n",
              "    </tr>\n",
              "    <tr>\n",
              "      <th>19</th>\n",
              "      <td>majelis hormat mahkamah konstitusi mkmk putus ...</td>\n",
              "      <td>Detik.com</td>\n",
              "      <td>2</td>\n",
              "    </tr>\n",
              "    <tr>\n",
              "      <th>41</th>\n",
              "      <td>gunawan dwi cahyo buka suara kait duga selingk...</td>\n",
              "      <td>CNN Indonesia</td>\n",
              "      <td>0</td>\n",
              "    </tr>\n",
              "    <tr>\n",
              "      <th>20</th>\n",
              "      <td>ketua partai golkar airlangga hartarto tibatib...</td>\n",
              "      <td>CNBC</td>\n",
              "      <td>2</td>\n",
              "    </tr>\n",
              "    <tr>\n",
              "      <th>44</th>\n",
              "      <td>serial the boys season 4 jadwal tayang jadwal ...</td>\n",
              "      <td>CNN Indonesia</td>\n",
              "      <td>0</td>\n",
              "    </tr>\n",
              "    <tr>\n",
              "      <th>1</th>\n",
              "      <td>kevin sanjaya sukamuljorahmat hidayat lolos ba...</td>\n",
              "      <td>Detik.com</td>\n",
              "      <td>1</td>\n",
              "    </tr>\n",
              "    <tr>\n",
              "      <th>16</th>\n",
              "      <td>politikus pdi juang pdip deddy yevry sitorus r...</td>\n",
              "      <td>Detik.com</td>\n",
              "      <td>2</td>\n",
              "    </tr>\n",
              "    <tr>\n",
              "      <th>31</th>\n",
              "      <td>trinity youth symphony orchestra trust ciputra...</td>\n",
              "      <td>Detik.com</td>\n",
              "      <td>0</td>\n",
              "    </tr>\n",
              "    <tr>\n",
              "      <th>17</th>\n",
              "      <td>komisaris utama pt pertamina basuki tjahaja pu...</td>\n",
              "      <td>Detik.com</td>\n",
              "      <td>2</td>\n",
              "    </tr>\n",
              "  </tbody>\n",
              "</table>\n",
              "</div>\n",
              "    <div class=\"colab-df-buttons\">\n",
              "\n",
              "  <div class=\"colab-df-container\">\n",
              "    <button class=\"colab-df-convert\" onclick=\"convertToInteractive('df-2f01a9b3-cae3-42e0-b9ed-ef148373e37b')\"\n",
              "            title=\"Convert this dataframe to an interactive table.\"\n",
              "            style=\"display:none;\">\n",
              "\n",
              "  <svg xmlns=\"http://www.w3.org/2000/svg\" height=\"24px\" viewBox=\"0 -960 960 960\">\n",
              "    <path d=\"M120-120v-720h720v720H120Zm60-500h600v-160H180v160Zm220 220h160v-160H400v160Zm0 220h160v-160H400v160ZM180-400h160v-160H180v160Zm440 0h160v-160H620v160ZM180-180h160v-160H180v160Zm440 0h160v-160H620v160Z\"/>\n",
              "  </svg>\n",
              "    </button>\n",
              "\n",
              "  <style>\n",
              "    .colab-df-container {\n",
              "      display:flex;\n",
              "      gap: 12px;\n",
              "    }\n",
              "\n",
              "    .colab-df-convert {\n",
              "      background-color: #E8F0FE;\n",
              "      border: none;\n",
              "      border-radius: 50%;\n",
              "      cursor: pointer;\n",
              "      display: none;\n",
              "      fill: #1967D2;\n",
              "      height: 32px;\n",
              "      padding: 0 0 0 0;\n",
              "      width: 32px;\n",
              "    }\n",
              "\n",
              "    .colab-df-convert:hover {\n",
              "      background-color: #E2EBFA;\n",
              "      box-shadow: 0px 1px 2px rgba(60, 64, 67, 0.3), 0px 1px 3px 1px rgba(60, 64, 67, 0.15);\n",
              "      fill: #174EA6;\n",
              "    }\n",
              "\n",
              "    .colab-df-buttons div {\n",
              "      margin-bottom: 4px;\n",
              "    }\n",
              "\n",
              "    [theme=dark] .colab-df-convert {\n",
              "      background-color: #3B4455;\n",
              "      fill: #D2E3FC;\n",
              "    }\n",
              "\n",
              "    [theme=dark] .colab-df-convert:hover {\n",
              "      background-color: #434B5C;\n",
              "      box-shadow: 0px 1px 3px 1px rgba(0, 0, 0, 0.15);\n",
              "      filter: drop-shadow(0px 1px 2px rgba(0, 0, 0, 0.3));\n",
              "      fill: #FFFFFF;\n",
              "    }\n",
              "  </style>\n",
              "\n",
              "    <script>\n",
              "      const buttonEl =\n",
              "        document.querySelector('#df-2f01a9b3-cae3-42e0-b9ed-ef148373e37b button.colab-df-convert');\n",
              "      buttonEl.style.display =\n",
              "        google.colab.kernel.accessAllowed ? 'block' : 'none';\n",
              "\n",
              "      async function convertToInteractive(key) {\n",
              "        const element = document.querySelector('#df-2f01a9b3-cae3-42e0-b9ed-ef148373e37b');\n",
              "        const dataTable =\n",
              "          await google.colab.kernel.invokeFunction('convertToInteractive',\n",
              "                                                    [key], {});\n",
              "        if (!dataTable) return;\n",
              "\n",
              "        const docLinkHtml = 'Like what you see? Visit the ' +\n",
              "          '<a target=\"_blank\" href=https://colab.research.google.com/notebooks/data_table.ipynb>data table notebook</a>'\n",
              "          + ' to learn more about interactive tables.';\n",
              "        element.innerHTML = '';\n",
              "        dataTable['output_type'] = 'display_data';\n",
              "        await google.colab.output.renderOutput(dataTable, element);\n",
              "        const docLink = document.createElement('div');\n",
              "        docLink.innerHTML = docLinkHtml;\n",
              "        element.appendChild(docLink);\n",
              "      }\n",
              "    </script>\n",
              "  </div>\n",
              "\n",
              "\n",
              "<div id=\"df-0bca8301-6f73-4a11-8780-5b0650d9a4f2\">\n",
              "  <button class=\"colab-df-quickchart\" onclick=\"quickchart('df-0bca8301-6f73-4a11-8780-5b0650d9a4f2')\"\n",
              "            title=\"Suggest charts\"\n",
              "            style=\"display:none;\">\n",
              "\n",
              "<svg xmlns=\"http://www.w3.org/2000/svg\" height=\"24px\"viewBox=\"0 0 24 24\"\n",
              "     width=\"24px\">\n",
              "    <g>\n",
              "        <path d=\"M19 3H5c-1.1 0-2 .9-2 2v14c0 1.1.9 2 2 2h14c1.1 0 2-.9 2-2V5c0-1.1-.9-2-2-2zM9 17H7v-7h2v7zm4 0h-2V7h2v10zm4 0h-2v-4h2v4z\"/>\n",
              "    </g>\n",
              "</svg>\n",
              "  </button>\n",
              "\n",
              "<style>\n",
              "  .colab-df-quickchart {\n",
              "      --bg-color: #E8F0FE;\n",
              "      --fill-color: #1967D2;\n",
              "      --hover-bg-color: #E2EBFA;\n",
              "      --hover-fill-color: #174EA6;\n",
              "      --disabled-fill-color: #AAA;\n",
              "      --disabled-bg-color: #DDD;\n",
              "  }\n",
              "\n",
              "  [theme=dark] .colab-df-quickchart {\n",
              "      --bg-color: #3B4455;\n",
              "      --fill-color: #D2E3FC;\n",
              "      --hover-bg-color: #434B5C;\n",
              "      --hover-fill-color: #FFFFFF;\n",
              "      --disabled-bg-color: #3B4455;\n",
              "      --disabled-fill-color: #666;\n",
              "  }\n",
              "\n",
              "  .colab-df-quickchart {\n",
              "    background-color: var(--bg-color);\n",
              "    border: none;\n",
              "    border-radius: 50%;\n",
              "    cursor: pointer;\n",
              "    display: none;\n",
              "    fill: var(--fill-color);\n",
              "    height: 32px;\n",
              "    padding: 0;\n",
              "    width: 32px;\n",
              "  }\n",
              "\n",
              "  .colab-df-quickchart:hover {\n",
              "    background-color: var(--hover-bg-color);\n",
              "    box-shadow: 0 1px 2px rgba(60, 64, 67, 0.3), 0 1px 3px 1px rgba(60, 64, 67, 0.15);\n",
              "    fill: var(--button-hover-fill-color);\n",
              "  }\n",
              "\n",
              "  .colab-df-quickchart-complete:disabled,\n",
              "  .colab-df-quickchart-complete:disabled:hover {\n",
              "    background-color: var(--disabled-bg-color);\n",
              "    fill: var(--disabled-fill-color);\n",
              "    box-shadow: none;\n",
              "  }\n",
              "\n",
              "  .colab-df-spinner {\n",
              "    border: 2px solid var(--fill-color);\n",
              "    border-color: transparent;\n",
              "    border-bottom-color: var(--fill-color);\n",
              "    animation:\n",
              "      spin 1s steps(1) infinite;\n",
              "  }\n",
              "\n",
              "  @keyframes spin {\n",
              "    0% {\n",
              "      border-color: transparent;\n",
              "      border-bottom-color: var(--fill-color);\n",
              "      border-left-color: var(--fill-color);\n",
              "    }\n",
              "    20% {\n",
              "      border-color: transparent;\n",
              "      border-left-color: var(--fill-color);\n",
              "      border-top-color: var(--fill-color);\n",
              "    }\n",
              "    30% {\n",
              "      border-color: transparent;\n",
              "      border-left-color: var(--fill-color);\n",
              "      border-top-color: var(--fill-color);\n",
              "      border-right-color: var(--fill-color);\n",
              "    }\n",
              "    40% {\n",
              "      border-color: transparent;\n",
              "      border-right-color: var(--fill-color);\n",
              "      border-top-color: var(--fill-color);\n",
              "    }\n",
              "    60% {\n",
              "      border-color: transparent;\n",
              "      border-right-color: var(--fill-color);\n",
              "    }\n",
              "    80% {\n",
              "      border-color: transparent;\n",
              "      border-right-color: var(--fill-color);\n",
              "      border-bottom-color: var(--fill-color);\n",
              "    }\n",
              "    90% {\n",
              "      border-color: transparent;\n",
              "      border-bottom-color: var(--fill-color);\n",
              "    }\n",
              "  }\n",
              "</style>\n",
              "\n",
              "  <script>\n",
              "    async function quickchart(key) {\n",
              "      const quickchartButtonEl =\n",
              "        document.querySelector('#' + key + ' button');\n",
              "      quickchartButtonEl.disabled = true;  // To prevent multiple clicks.\n",
              "      quickchartButtonEl.classList.add('colab-df-spinner');\n",
              "      try {\n",
              "        const charts = await google.colab.kernel.invokeFunction(\n",
              "            'suggestCharts', [key], {});\n",
              "      } catch (error) {\n",
              "        console.error('Error during call to suggestCharts:', error);\n",
              "      }\n",
              "      quickchartButtonEl.classList.remove('colab-df-spinner');\n",
              "      quickchartButtonEl.classList.add('colab-df-quickchart-complete');\n",
              "    }\n",
              "    (() => {\n",
              "      let quickchartButtonEl =\n",
              "        document.querySelector('#df-0bca8301-6f73-4a11-8780-5b0650d9a4f2 button');\n",
              "      quickchartButtonEl.style.display =\n",
              "        google.colab.kernel.accessAllowed ? 'block' : 'none';\n",
              "    })();\n",
              "  </script>\n",
              "</div>\n",
              "    </div>\n",
              "  </div>\n"
            ]
          },
          "metadata": {},
          "execution_count": 15
        }
      ],
      "source": [
        "from sklearn.preprocessing import LabelEncoder\n",
        "\n",
        "# Inisialisasi LabelEncoder\n",
        "label_encoder = LabelEncoder()\n",
        "\n",
        "# Melakukan encoding pada kolom \"Kategori\"\n",
        "df_cleaned['Label'] = label_encoder.fit_transform(df_cleaned['Label'])\n",
        "\n",
        "df_cleaned.sample(10)"
      ]
    },
    {
      "cell_type": "markdown",
      "source": [
        "### Split Data"
      ],
      "metadata": {
        "id": "hcs9CrJRYgGo"
      }
    },
    {
      "cell_type": "code",
      "execution_count": 16,
      "metadata": {
        "id": "JKS0SDpOOR6w"
      },
      "outputs": [],
      "source": [
        "from sklearn.model_selection import train_test_split\n",
        "\n",
        "X = df_cleaned['Teks']\n",
        "y = df_cleaned['Label']\n",
        "X_train, X_test, y_train, y_test = train_test_split(X, y, test_size=0.2, random_state=42)"
      ]
    },
    {
      "cell_type": "markdown",
      "metadata": {
        "id": "UDYRlWHUIHNx"
      },
      "source": [
        "### Text Represitation"
      ]
    },
    {
      "cell_type": "code",
      "execution_count": 17,
      "metadata": {
        "id": "evDrny3hIAMB"
      },
      "outputs": [],
      "source": [
        "from sklearn.feature_extraction.text import TfidfVectorizer\n",
        "\n",
        "# Inisialisasi TF-IDF Vectorizer\n",
        "tfidf = TfidfVectorizer(max_features=50, min_df=3)\n",
        "\n",
        "# Melakukan fit dan transform pada data teks dalam kolom \"Teks\" pada data pelatihan\n",
        "tfidf_train = tfidf.fit_transform(X_train)\n",
        "\n",
        "# Melakukan transform pada data teks dalam kolom \"Teks\" pada data pengujian\n",
        "tfidf_test = tfidf.transform(X_test)"
      ]
    },
    {
      "cell_type": "code",
      "execution_count": 18,
      "metadata": {
        "id": "wGM8p_OPNTif"
      },
      "outputs": [],
      "source": [
        "from sklearn.feature_extraction.text import CountVectorizer\n",
        "\n",
        "# Inisialisasi CountVectorizer\n",
        "cv = CountVectorizer(max_features=50, min_df=3)\n",
        "\n",
        "# Melakukan fit dan transform pada data teks dalam kolom \"Teks\" pada data pelatihan\n",
        "cv_train = cv.fit_transform(X_train)\n",
        "\n",
        "# Melakukan transform pada data teks dalam kolom \"Teks\" pada data pengujian\n",
        "cv_test = cv.transform(X_test)"
      ]
    },
    {
      "cell_type": "markdown",
      "metadata": {
        "id": "KkdS59NpQ82u"
      },
      "source": [
        "### Modeling"
      ]
    },
    {
      "cell_type": "code",
      "execution_count": 19,
      "metadata": {
        "colab": {
          "base_uri": "https://localhost:8080/"
        },
        "id": "Hmfz7WK8Q7kv",
        "outputId": "f19c9bca-bb9b-4063-bebe-6584acbb446c"
      },
      "outputs": [
        {
          "output_type": "stream",
          "name": "stdout",
          "text": [
            "Akurasi SVM: 0.7777777777777778\n",
            "              precision    recall  f1-score   support\n",
            "\n",
            "           0       1.00      0.50      0.67         4\n",
            "           1       0.60      1.00      0.75         3\n",
            "           2       1.00      1.00      1.00         2\n",
            "\n",
            "    accuracy                           0.78         9\n",
            "   macro avg       0.87      0.83      0.81         9\n",
            "weighted avg       0.87      0.78      0.77         9\n",
            "\n"
          ]
        }
      ],
      "source": [
        "from sklearn.svm import SVC\n",
        "from sklearn.metrics import accuracy_score, classification_report\n",
        "svm_model = SVC()\n",
        "svm_model.fit(tfidf_train, y_train)\n",
        "\n",
        "# Melakukan prediksi pada data pengujian\n",
        "y_pred = svm_model.predict(tfidf_test)\n",
        "\n",
        "# Menampilkan akurasi dan laporan klasifikasi\n",
        "accuracy = accuracy_score(y_test, y_pred)\n",
        "print(\"Akurasi SVM:\", accuracy)\n",
        "print(classification_report(y_test, y_pred))"
      ]
    },
    {
      "cell_type": "code",
      "source": [
        "from sklearn.ensemble import RandomForestClassifier\n",
        "\n",
        "# Inisialisasi dan melatih model Random Forest\n",
        "rf_model = RandomForestClassifier()\n",
        "rf_model.fit(tfidf_train, y_train)\n",
        "\n",
        "# Melakukan prediksi pada data pengujian\n",
        "y_pred_rf = rf_model.predict(tfidf_test)\n",
        "\n",
        "# Menampilkan akurasi dan laporan klasifikasi\n",
        "accuracy_rf = accuracy_score(y_test, y_pred_rf)\n",
        "print(\"Akurasi Random Forest:\", accuracy_rf)\n",
        "print(classification_report(y_test, y_pred_rf))"
      ],
      "metadata": {
        "colab": {
          "base_uri": "https://localhost:8080/"
        },
        "id": "Nror0Kdn8Brg",
        "outputId": "abd0d58d-7169-4212-a70e-ee66a658cb44"
      },
      "execution_count": 20,
      "outputs": [
        {
          "output_type": "stream",
          "name": "stdout",
          "text": [
            "Akurasi Random Forest: 0.7777777777777778\n",
            "              precision    recall  f1-score   support\n",
            "\n",
            "           0       0.67      1.00      0.80         4\n",
            "           1       1.00      0.67      0.80         3\n",
            "           2       1.00      0.50      0.67         2\n",
            "\n",
            "    accuracy                           0.78         9\n",
            "   macro avg       0.89      0.72      0.76         9\n",
            "weighted avg       0.85      0.78      0.77         9\n",
            "\n"
          ]
        }
      ]
    },
    {
      "cell_type": "code",
      "execution_count": 21,
      "metadata": {
        "colab": {
          "base_uri": "https://localhost:8080/"
        },
        "id": "NYEEyrXHRySD",
        "outputId": "e29ab544-80d8-447c-cdac-0ffa8718c82f"
      },
      "outputs": [
        {
          "output_type": "stream",
          "name": "stdout",
          "text": [
            "Akurasi SVM: 0.3333333333333333\n",
            "              precision    recall  f1-score   support\n",
            "\n",
            "           0       0.00      0.00      0.00         4\n",
            "           1       0.33      1.00      0.50         3\n",
            "           2       0.00      0.00      0.00         2\n",
            "\n",
            "    accuracy                           0.33         9\n",
            "   macro avg       0.11      0.33      0.17         9\n",
            "weighted avg       0.11      0.33      0.17         9\n",
            "\n"
          ]
        },
        {
          "output_type": "stream",
          "name": "stderr",
          "text": [
            "/usr/local/lib/python3.10/dist-packages/sklearn/metrics/_classification.py:1344: UndefinedMetricWarning: Precision and F-score are ill-defined and being set to 0.0 in labels with no predicted samples. Use `zero_division` parameter to control this behavior.\n",
            "  _warn_prf(average, modifier, msg_start, len(result))\n",
            "/usr/local/lib/python3.10/dist-packages/sklearn/metrics/_classification.py:1344: UndefinedMetricWarning: Precision and F-score are ill-defined and being set to 0.0 in labels with no predicted samples. Use `zero_division` parameter to control this behavior.\n",
            "  _warn_prf(average, modifier, msg_start, len(result))\n",
            "/usr/local/lib/python3.10/dist-packages/sklearn/metrics/_classification.py:1344: UndefinedMetricWarning: Precision and F-score are ill-defined and being set to 0.0 in labels with no predicted samples. Use `zero_division` parameter to control this behavior.\n",
            "  _warn_prf(average, modifier, msg_start, len(result))\n"
          ]
        }
      ],
      "source": [
        "from sklearn.svm import SVC\n",
        "from sklearn.metrics import accuracy_score, classification_report\n",
        "svm_model = SVC()\n",
        "svm_model.fit(cv_train, y_train)\n",
        "\n",
        "# Melakukan prediksi pada data pengujian\n",
        "y_pred = svm_model.predict(cv_test)\n",
        "\n",
        "# Menampilkan akurasi dan laporan klasifikasi\n",
        "accuracy = accuracy_score(y_test, y_pred)\n",
        "print(\"Akurasi SVM:\", accuracy)\n",
        "print(classification_report(y_test, y_pred))"
      ]
    },
    {
      "cell_type": "code",
      "source": [
        "from sklearn.ensemble import RandomForestClassifier\n",
        "\n",
        "# Inisialisasi dan melatih model Random Forest\n",
        "rf_model = RandomForestClassifier()\n",
        "rf_model.fit(cv_train, y_train)\n",
        "\n",
        "# Melakukan prediksi pada data pengujian\n",
        "y_pred_rf = rf_model.predict(cv_test)\n",
        "\n",
        "# Menampilkan akurasi dan laporan klasifikasi\n",
        "accuracy_rf = accuracy_score(y_test, y_pred_rf)\n",
        "print(\"Akurasi Random Forest:\", accuracy_rf)\n",
        "print(classification_report(y_test, y_pred_rf))"
      ],
      "metadata": {
        "colab": {
          "base_uri": "https://localhost:8080/"
        },
        "id": "WkTO5Y0x8WI3",
        "outputId": "848150fd-f1a4-4152-bb65-fd6fe7cb8793"
      },
      "execution_count": 22,
      "outputs": [
        {
          "output_type": "stream",
          "name": "stdout",
          "text": [
            "Akurasi Random Forest: 0.6666666666666666\n",
            "              precision    recall  f1-score   support\n",
            "\n",
            "           0       0.57      1.00      0.73         4\n",
            "           1       1.00      0.33      0.50         3\n",
            "           2       1.00      0.50      0.67         2\n",
            "\n",
            "    accuracy                           0.67         9\n",
            "   macro avg       0.86      0.61      0.63         9\n",
            "weighted avg       0.81      0.67      0.64         9\n",
            "\n"
          ]
        }
      ]
    }
  ],
  "metadata": {
    "colab": {
      "provenance": []
    },
    "kernelspec": {
      "display_name": "Python 3",
      "name": "python3"
    },
    "language_info": {
      "name": "python"
    }
  },
  "nbformat": 4,
  "nbformat_minor": 0
}